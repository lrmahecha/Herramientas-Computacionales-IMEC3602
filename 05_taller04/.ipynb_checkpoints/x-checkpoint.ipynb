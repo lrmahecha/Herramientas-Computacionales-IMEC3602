{
 "cells": [
  {
   "cell_type": "code",
   "execution_count": 1,
   "metadata": {},
   "outputs": [],
   "source": [
    "import numpy as np\n",
    "import numpy.polynomial as pol\n",
    "\n",
    "n=2\n",
    "\n",
    "po=0.25\n",
    "\n",
    "p1 = 1 -po\n",
    "\n",
    "prob = [po,p1]\n",
    "\n",
    "while len(prob)<= pow(2,n-1):\n",
    "    A = [z*po for z in prob]\n",
    "    B = [z*p1 for z in prob]\n",
    "    prob = A + B\n",
    "\n",
    "N = np.arange(0,2**n,1)\n",
    "C = np.arange(1,n+1,1)\n",
    "Q = np.arange(-5,6,1)\n",
    "\n",
    "L = [2**c for c in C]\n",
    "\n",
    "R = []\n",
    "for q in Q:\n",
    "\n",
    "    P = []\n",
    "    sF = []\n",
    "    sA = []\n",
    "    for k in N:\n",
    "        P.append(prob[k]**q)\n",
    "        for c in C:\n",
    "            if len(P) == pow(2,c):\n",
    "                M = P/sum(P)\n",
    "                F = [m*np.log(m) for m in M]\n",
    "                A = [m*np.log(p) for m,p in zip(M,P)]\n",
    "                sF.append(sum(F))\n",
    "                if len(sF)==len(L):\n",
    "                    f = pol.polynomial.polyfit(np.log(L), sF, deg=1)\n",
    "                    R.append(f[1])"
   ]
  },
  {
   "cell_type": "code",
   "execution_count": 2,
   "metadata": {},
   "outputs": [
    {
     "data": {
      "text/plain": [
       "2"
      ]
     },
     "execution_count": 2,
     "metadata": {},
     "output_type": "execute_result"
    }
   ],
   "source": [
    " pow(2,n-1)"
   ]
  },
  {
   "cell_type": "code",
   "execution_count": null,
   "metadata": {},
   "outputs": [],
   "source": []
  }
 ],
 "metadata": {
  "kernelspec": {
   "display_name": "Python 3.6",
   "language": "python",
   "name": "python36"
  },
  "language_info": {
   "codemirror_mode": {
    "name": "ipython",
    "version": 3
   },
   "file_extension": ".py",
   "mimetype": "text/x-python",
   "name": "python",
   "nbconvert_exporter": "python",
   "pygments_lexer": "ipython3",
   "version": "3.6.3"
  }
 },
 "nbformat": 4,
 "nbformat_minor": 2
}
