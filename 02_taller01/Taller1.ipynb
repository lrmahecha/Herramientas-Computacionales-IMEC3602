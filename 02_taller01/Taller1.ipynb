{
 "cells": [
  {
   "cell_type": "markdown",
   "metadata": {
    "collapsed": true
   },
   "source": [
    "## Taller 1"
   ]
  },
  {
   "cell_type": "code",
   "execution_count": 2,
   "metadata": {},
   "outputs": [],
   "source": [
    "import os\n",
    "import pandas as pd\n",
    "from sklearn.metrics import mean_squared_error\n",
    "from scipy import stats"
   ]
  },
  {
   "cell_type": "code",
   "execution_count": 3,
   "metadata": {},
   "outputs": [
    {
     "name": "stdout",
     "output_type": "stream",
     "text": [
      "Populating the interactive namespace from numpy and matplotlib\n"
     ]
    }
   ],
   "source": [
    "%pylab inline"
   ]
  },
  {
   "cell_type": "code",
   "execution_count": 4,
   "metadata": {},
   "outputs": [],
   "source": [
    "base_dir = os.path.join( '.','data')\n",
    "output_dir = os.path.join( '.','output')\n",
    "ciudad = 'Medellin'\n",
    "fuente = 'IDEAM'\n",
    "fuente2 = 'NREL'\n",
    "serie_csv = os.path.join(base_dir,ciudad,fuente+'.csv')\n",
    "serie_pd = pd.read_csv(serie_csv, sep = ';',\n",
    "                encoding='latin-1')\n",
    "serie_csv2 = os.path.join(base_dir,ciudad,fuente2+'.csv')\n",
    "serie_pd2 = pd.read_csv(serie_csv2, sep = ';',\n",
    "                       encoding='latin-1')"
   ]
  },
  {
   "cell_type": "markdown",
   "metadata": {},
   "source": [
    "## 1. Cálculo de ENFICC 99%"
   ]
  },
  {
   "cell_type": "code",
   "execution_count": 5,
   "metadata": {},
   "outputs": [],
   "source": [
    "def enfic(serie_horaria):\n",
    "    \n",
    "    agnos = sorted(serie_horaria['AÑO'].unique())\n",
    "    ghi_df = pd.DataFrame(columns=[\"AÑO\", \"MES\", \"DIAS\", \"GHImes\"])\n",
    "    ghi_df1= pd.DataFrame(columns=[\"AÑO\", \"MES\", \"GHIdiario\"])\n",
    "    \n",
    "    for agno in agnos:\n",
    "        \n",
    "        for mes in range(1,13):\n",
    "            \n",
    "            nombre_energia = list(serie_horaria)[-1]\n",
    "            dias = sorted(serie_horaria[(serie_horaria['AÑO'] == agno) &\n",
    "                        (serie_horaria['MES'] == mes)][\"DIA\"].unique())\n",
    "            ghi_mes = serie_horaria.loc[((serie_horaria[\"AÑO\"] == agno)\n",
    "                            & (serie_horaria[\"MES\"] == mes)),\n",
    "                                        nombre_energia].sum()/1000\n",
    "            ghi_dict = {\"AÑO\":agno, \"MES\":mes, \"DIAS\":dias[-1],\n",
    "                        \"GHImes\":ghi_mes}\n",
    "            ghi_df = ghi_df.append(ghi_dict, ignore_index=True)\n",
    "            \n",
    "        for mes in range (1,13):\n",
    "                \n",
    "            ghi_diario = ghi_df.loc[((ghi_df[\"AÑO\"] == agno) &\n",
    "                                    (ghi_df[\"MES\"] == mes)),\"GHImes\"].item()/dias[-1]\n",
    "                \n",
    "            ghi_dict1 = {\"AÑO\":agno, \"MES\":mes, \"GHIdiario\":ghi_diario}\n",
    "                \n",
    "            ghi_df1= ghi_df1.append(ghi_dict1, ignore_index=True)\n",
    "            \n",
    "    percentil = 0.01\n",
    "    enficc = ghi_df1.quantile(q=percentil, \n",
    "                                 numeric_only=True)[\"GHIdiario\"]\n",
    "    \n",
    "    pr=print('La ENFICC 99% es: ', enficc)\n",
    "    \n",
    "    return pr"
   ]
  },
  {
   "cell_type": "code",
   "execution_count": 6,
   "metadata": {},
   "outputs": [
    {
     "name": "stdout",
     "output_type": "stream",
     "text": [
      "La ENFICC 99% es:  3.38522333489\n"
     ]
    }
   ],
   "source": [
    "enfic=enfic(serie_pd)"
   ]
  },
  {
   "cell_type": "markdown",
   "metadata": {},
   "source": [
    "## 2.Gráfica distribución de energía"
   ]
  },
  {
   "cell_type": "code",
   "execution_count": 7,
   "metadata": {},
   "outputs": [],
   "source": [
    "def GHIdia(serie_horaria):\n",
    "    \n",
    "    agnos = sorted(serie_horaria['AÑO'].unique())\n",
    "    ghi_df = pd.DataFrame(columns=[\"AÑO\", \"MES\", \"DIAS\", \"GHImes\"])\n",
    "    ghi_df1= pd.DataFrame(columns=[\"AÑO\", \"MES\", \"GHIdiario\"])\n",
    "    \n",
    "    for agno in agnos:\n",
    "        \n",
    "        for mes in range(1,13):\n",
    "            \n",
    "            nombre_energia = list(serie_horaria)[-1]\n",
    "            dias = sorted(serie_horaria[(serie_horaria['AÑO'] == agno) &\n",
    "                        (serie_horaria['MES'] == mes)][\"DIA\"].unique())\n",
    "            ghi_mes = serie_horaria.loc[((serie_horaria[\"AÑO\"] == agno)\n",
    "                            & (serie_horaria[\"MES\"] == mes)),\n",
    "                                        nombre_energia].sum()/1000\n",
    "            ghi_dict = {\"AÑO\":agno, \"MES\":mes, \"DIAS\":dias[-1],\n",
    "                        \"GHImes\":ghi_mes}\n",
    "            ghi_df = ghi_df.append(ghi_dict, ignore_index=True)\n",
    "            \n",
    "        for mes in range (1,13):\n",
    "                \n",
    "            ghi_diario = ghi_df.loc[((ghi_df[\"AÑO\"] == agno) &\n",
    "                                    (ghi_df[\"MES\"] == mes)),\"GHImes\"].item()/dias[-1]\n",
    "                \n",
    "            ghi_dict1 = {\"AÑO\":agno, \"MES\":mes, \"GHIdiario\":ghi_diario}\n",
    "                \n",
    "            ghi_df1= ghi_df1.append(ghi_dict1, ignore_index=True)\n",
    "            \n",
    "    return ghi_df1"
   ]
  },
  {
   "cell_type": "code",
   "execution_count": 8,
   "metadata": {},
   "outputs": [],
   "source": [
    "def GHImensual(serie_horaria):\n",
    "    agnos = sorted(serie_horaria['AÑO'].unique())\n",
    "    ghi_df = pd.DataFrame(columns=[\"AÑO\", \"MES\", \"DIAS\", \"GHImes\"])\n",
    "    for agno in agnos:\n",
    "        for mes in range(1,13):\n",
    "            nombre_energia = list(serie_horaria)[-1]\n",
    "            dias = sorted(serie_horaria[(serie_horaria['AÑO'] == agno) &\n",
    "                        (serie_horaria['MES'] == mes)][\"DIA\"].unique())\n",
    "            ghi_mes = serie_horaria.loc[((serie_horaria[\"AÑO\"] == agno)\n",
    "                            & (serie_horaria[\"MES\"] == mes)),\n",
    "                                        nombre_energia].sum()/1000\n",
    "            ghi_dict = {\"AÑO\":agno, \"MES\":mes, \"DIAS\":dias[-1],\n",
    "                        \"GHImes\":ghi_mes}\n",
    "            ghi_df = ghi_df.append(ghi_dict, ignore_index=True)\n",
    "    return ghi_df"
   ]
  },
  {
   "cell_type": "code",
   "execution_count": 9,
   "metadata": {},
   "outputs": [],
   "source": [
    "def grafica (serie1,serie2):\n",
    "    \n",
    "    ghi_dias1=GHIdia(serie1)\n",
    "    ghi_dias2=GHIdia(serie2)\n",
    "    \n",
    "    datos_IDEAM = sorted(ghi_dias1[\"GHIdiario\"])\n",
    "    datos_SATELITE = sorted(ghi_dias2[\"GHIdiario\"])\n",
    "    \n",
    "    pylab.xlabel(\"Datos\")\n",
    "    pylab.ylabel(\"Energía/Energía Base IDEAM\")\n",
    "    numdatos1 = range(len(datos_IDEAM))\n",
    "    numdatos2 = range(len(datos_SATELITE))\n",
    "    pylab.plot(numdatos1,datos_IDEAM/datos_IDEAM[0],'-k', label='IDEAM')\n",
    "    pylab.plot(numdatos2,datos_SATELITE/datos_IDEAM[0],'--', label='SATELITE')\n",
    "    pylab.legend(loc='upper left')"
   ]
  },
  {
   "cell_type": "code",
   "execution_count": 10,
   "metadata": {},
   "outputs": [
    {
     "data": {
      "image/png": "[encoded data removed]",
      "text/plain": [
       "<matplotlib.figure.Figure at 0x7f9334f8a588>"
      ]
     },
     "metadata": {},
     "output_type": "display_data"
    }
   ],
   "source": [
    "grafica(serie_pd,serie_pd2)"
   ]
  },
  {
   "cell_type": "markdown",
   "metadata": {},
   "source": [
    "## 3.Metodología Medición-Correlación-Predicción (MCP) "
   ]
  },
  {
   "cell_type": "markdown",
   "metadata": {},
   "source": [
    "- Función para cortar la serie larga en periodos más cortos"
   ]
  },
  {
   "cell_type": "code",
   "execution_count": 11,
   "metadata": {},
   "outputs": [],
   "source": [
    "def periodo (serie_larga,agno_inicio,agno_final,mes_inicio,mes_final):\n",
    "    \n",
    "    nuevo=pd.DataFrame(columns=[\"AÑO\", \"MES\", \"DIA\",\"HORA\" ,\"GHI\"])\n",
    "\n",
    "    guardar=[]\n",
    "    \n",
    "    for agno in range(agno_inicio,agno_final):\n",
    "    \n",
    "        for mes in range(mes_inicio,mes_final):\n",
    "\n",
    "            datos=serie_larga.loc[(serie_larga[\"AÑO\"] == agno)& (serie_larga[\"MES\"] == mes)]\n",
    "            guardar.append(datos)\n",
    "            ghi_df = pd.concat(guardar)\n",
    "            \n",
    "\n",
    "    return ghi_df"
   ]
  },
  {
   "cell_type": "code",
   "execution_count": 12,
   "metadata": {},
   "outputs": [],
   "source": [
    "serie_pd21=periodo(serie_pd2,2006,2017,1,13)"
   ]
  },
  {
   "cell_type": "markdown",
   "metadata": {},
   "source": [
    "- Función de ajuste"
   ]
  },
  {
   "cell_type": "code",
   "execution_count": 13,
   "metadata": {},
   "outputs": [],
   "source": [
    "def fun (x,a,b):\n",
    "        return a+(b*x)"
   ]
  },
  {
   "cell_type": "markdown",
   "metadata": {},
   "source": [
    "- Función para reemplazar los números negativos de una serie por ceros"
   ]
  },
  {
   "cell_type": "code",
   "execution_count": 14,
   "metadata": {},
   "outputs": [],
   "source": [
    "def negativos (serie):\n",
    "\n",
    "    num = serie._get_numeric_data()\n",
    "    num[num < 0] = 0\n",
    "    \n",
    "    return serie"
   ]
  },
  {
   "cell_type": "markdown",
   "metadata": {},
   "source": [
    "- Función para la MCP"
   ]
  },
  {
   "cell_type": "code",
   "execution_count": 15,
   "metadata": {},
   "outputs": [],
   "source": [
    "def MCP (obj,ref,año_inicial,año_final,mes):\n",
    "    \n",
    "    datos_corr= ref.copy()\n",
    "    \n",
    "    ref_p=periodo(ref,año_inicial,año_final,1,mes)\n",
    "    \n",
    "    MCP= pd.DataFrame(columns=[\"AÑO\", \"MES\", \"DIAS\", \"GHI_cor\"])\n",
    "    \n",
    "    nombre_1=list(obj)[-1]\n",
    "    nombre_2=list(ref)[-1]\n",
    " \n",
    "    prom_obj=obj[nombre_1].mean()\n",
    "    prom_ref=ref_p[nombre_2].mean()\n",
    "    \n",
    "    std_obj=obj[nombre_1].std()\n",
    "    std_ref=ref_p[nombre_2].std()\n",
    "    rel_std=std_obj/std_ref\n",
    "    const= prom_obj-(rel_std*prom_ref)\n",
    "    \n",
    "    datos_ref=ref[nombre_2]\n",
    "    c=fun(datos_ref,const,rel_std)\n",
    "    \n",
    "    datos_corr['NREL']=c\n",
    "    \n",
    "    datos_corregidos_sinnegativo=negativos(datos_corr)\n",
    "    \n",
    "    return datos_corr"
   ]
  },
  {
   "cell_type": "code",
   "execution_count": 16,
   "metadata": {},
   "outputs": [],
   "source": [
    "serie_obj=periodo(serie_pd,2015,2016,1,13)"
   ]
  },
  {
   "cell_type": "code",
   "execution_count": 17,
   "metadata": {},
   "outputs": [],
   "source": [
    "serie_cor=MCP(serie_obj,serie_pd2,2015,2016,13)"
   ]
  },
  {
   "cell_type": "code",
   "execution_count": 18,
   "metadata": {},
   "outputs": [
    {
     "data": {
      "image/png": "[encoded data removed]",
      "text/plain": [
       "<matplotlib.figure.Figure at 0x7f9334fb7438>"
      ]
     },
     "metadata": {},
     "output_type": "display_data"
    }
   ],
   "source": [
    "grafica(serie_pd,serie_cor)"
   ]
  },
  {
   "cell_type": "code",
   "execution_count": 19,
   "metadata": {},
   "outputs": [],
   "source": [
    "IDEAM_mensual=GHImensual(serie_pd)\n",
    "SATEL_mensual=GHImensual(serie_pd2)\n",
    "SATELCOR_mensual=GHImensual(serie_cor)\n",
    "I=IDEAM_mensual['GHImes']\n",
    "S=SATEL_mensual['GHImes']\n",
    "S_C=SATELCOR_mensual['GHImes']"
   ]
  },
  {
   "cell_type": "code",
   "execution_count": 20,
   "metadata": {},
   "outputs": [],
   "source": [
    "numdatos_IDEAM = range(len(IDEAM_mensual))\n",
    "numdatos_SATEL = range(len(SATEL_mensual))\n",
    "numdatos_SATELCOR = range(len(SATELCOR_mensual))"
   ]
  },
  {
   "cell_type": "code",
   "execution_count": 21,
   "metadata": {},
   "outputs": [
    {
     "data": {
      "text/plain": [
       "Text(0,0.5,'W/$m^{2}$ / W/$m^{2}$')"
      ]
     },
     "execution_count": 21,
     "metadata": {},
     "output_type": "execute_result"
    },
    {
     "data": {
      "image/png": "[encoded data removed]",
      "text/plain": [
       "<matplotlib.figure.Figure at 0x7f93347956d8>"
      ]
     },
     "metadata": {},
     "output_type": "display_data"
    }
   ],
   "source": [
    "pylab.plot(numdatos_IDEAM,I/I[0],'-k', label='IDEAM')\n",
    "pylab.plot(numdatos_SATEL,S/I[0],'-g', label='NREL')\n",
    "pylab.plot(numdatos_SATELCOR,S_C/I[0],'-b', label='CORREGIDA')\n",
    "pylab.legend(loc='lower left')\n",
    "pylab.xlabel(\"Tiempo\")\n",
    "pylab.ylabel(\"W/$m^{2}$ / W/$m^{2}$\")"
   ]
  },
  {
   "cell_type": "markdown",
   "metadata": {},
   "source": [
    "## 4.Cálculo de los indicadores de error (RMSEn,MEB,KSI)"
   ]
  },
  {
   "cell_type": "code",
   "execution_count": 22,
   "metadata": {},
   "outputs": [],
   "source": [
    "def RMSEn (serie_ideam,serie_corregida):\n",
    "    \n",
    "    nombre_1=list(serie_ideam)[-1]\n",
    "    nombre_2=list(serie_corregida)[-1]\n",
    "    \n",
    "    fila_ideam=serie_ideam[nombre_1]\n",
    "    fila_corregida=serie_corregida[nombre_2]\n",
    "    \n",
    "    difference=(fila_ideam-fila_corregida)**2\n",
    "    mean_difference=difference.mean()\n",
    "    \n",
    "    minimo=min(fila_ideam)\n",
    "    maximo=max(fila_ideam)\n",
    "    rmse_val = np.sqrt(mean_difference)/(maximo-minimo)*100\n",
    "    \n",
    "    return rmse_val"
   ]
  },
  {
   "cell_type": "code",
   "execution_count": 23,
   "metadata": {},
   "outputs": [],
   "source": [
    "def MEB (serie_ideam,serie_corregida):\n",
    "    \n",
    "    nombre_1=list(serie_ideam)[-1]\n",
    "    nombre_2=list(serie_corregida)[-1]\n",
    "    \n",
    "    fila_ideam=serie_ideam[nombre_1]\n",
    "    fila_corregida=serie_corregida[nombre_2]\n",
    "    \n",
    "    difference=(fila_corregida-fila_ideam)\n",
    "    sum_difference=difference.sum()\n",
    "    sum_ideam=fila_ideam.sum()\n",
    "    \n",
    "    meb_val=(sum_difference/sum_ideam)*100\n",
    "    \n",
    "    return meb_val"
   ]
  },
  {
   "cell_type": "code",
   "execution_count": 24,
   "metadata": {},
   "outputs": [],
   "source": [
    "def KSI (serie_ideam,serie_corregida):\n",
    "    \n",
    "    nombre_1=list(serie_ideam)[-1]\n",
    "    nombre_2=list(serie_corregida)[-1]\n",
    "        \n",
    "    fila_ideam=serie_ideam[nombre_1]\n",
    "    fila_corregida=serie_corregida[nombre_2]\n",
    "    \n",
    "    ksi=stats.ks_2samp(fila_ideam,fila_corregida)\n",
    "    pvalue=ksi[1]\n",
    "    \n",
    "    return pvalue"
   ]
  },
  {
   "cell_type": "markdown",
   "metadata": {},
   "source": [
    "## Análisis de la eficacia del método MCP "
   ]
  },
  {
   "cell_type": "code",
   "execution_count": 25,
   "metadata": {},
   "outputs": [],
   "source": [
    "def calculo (serie,agno_inicial,agno_final,mes,nombre):\n",
    "    \n",
    "    datos=pd.DataFrame(columns=[nombre,\"RMSE [%]\",\"MEB [%]\",\"KSI (p-value)\"])\n",
    "    error_meb=[]\n",
    "    error_rmse=[]\n",
    "    error_ksi=[]\n",
    "    \n",
    "    \n",
    "    \n",
    "    for agno1 in range (agno_inicial,agno_final):\n",
    "        \n",
    "            \n",
    "            c=agno1+1\n",
    "            mes=mes\n",
    "            serie_mes=periodo(serie_pd,agno_inicial,c,1,mes)\n",
    "            serie_cor_mes=MCP(serie_mes,serie,agno_inicial,agno_final,mes)\n",
    "            negativos(serie_cor_mes)\n",
    "            error_RMSE_mes=RMSEn(serie_pd,serie_cor_mes)\n",
    "            error_MEB_mes=MEB(serie_pd,serie_cor_mes)\n",
    "            error_KSI_mes=KSI(GHImensual(serie_pd),GHImensual(serie_cor_mes))\n",
    "\n",
    "            error_rmse.append(error_RMSE_mes)\n",
    "            error_meb.append(error_MEB_mes)\n",
    "            error_ksi.append(error_KSI_mes)\n",
    "            \n",
    "   \n",
    "        \n",
    "    datos['RMSE [%]']=pd.Series(error_rmse)\n",
    "    datos['MEB [%]']=pd.Series(error_meb)\n",
    "    datos['KSI (p-value)']=pd.Series(error_ksi)\n",
    "\n",
    "    \n",
    "    return datos\n",
    "    "
   ]
  },
  {
   "cell_type": "markdown",
   "metadata": {},
   "source": [
    "### - Analisis del efecto de la longitud de las series"
   ]
  },
  {
   "cell_type": "code",
   "execution_count": 26,
   "metadata": {},
   "outputs": [],
   "source": [
    "mes_1=calculo(serie_pd21,2006,2007,2,\"MESES\")\n",
    "mes_3=calculo(serie_pd21,2006,2007,4,\"MESES\")\n",
    "mes_6=calculo(serie_pd21,2006,2007,7,\"MESES\")\n",
    "años=calculo(serie_pd21,2006,2016,13,\"MESES\")"
   ]
  },
  {
   "cell_type": "code",
   "execution_count": 27,
   "metadata": {},
   "outputs": [],
   "source": [
    "frames=[mes_1,mes_3,mes_6,años]\n",
    "tabla=pd.concat(frames)\n",
    "meses=np.array([1,3,6,12,24,36,48,60,72,84,96,108,120])"
   ]
  },
  {
   "cell_type": "code",
   "execution_count": 28,
   "metadata": {},
   "outputs": [],
   "source": [
    "tabla['MESES']=meses\n",
    "index=range(0,13)\n",
    "tabla.index=index"
   ]
  },
  {
   "cell_type": "markdown",
   "metadata": {},
   "source": [
    "#### - Tabla de errores para series de diferente longitud"
   ]
  },
  {
   "cell_type": "code",
   "execution_count": 29,
   "metadata": {},
   "outputs": [
    {
     "data": {
      "text/html": [
       "<div>\n",
       "<style>\n",
       "    .dataframe thead tr:only-child th {\n",
       "        text-align: right;\n",
       "    }\n",
       "\n",
       "    .dataframe thead th {\n",
       "        text-align: left;\n",
       "    }\n",
       "\n",
       "    .dataframe tbody tr th {\n",
       "        vertical-align: top;\n",
       "    }\n",
       "</style>\n",
       "<table border=\"1\" class=\"dataframe\">\n",
       "  <thead>\n",
       "    <tr style=\"text-align: right;\">\n",
       "      <th></th>\n",
       "      <th>MESES</th>\n",
       "      <th>RMSE [%]</th>\n",
       "      <th>MEB [%]</th>\n",
       "      <th>KSI (p-value)</th>\n",
       "    </tr>\n",
       "  </thead>\n",
       "  <tbody>\n",
       "    <tr>\n",
       "      <th>0</th>\n",
       "      <td>1</td>\n",
       "      <td>12.078867</td>\n",
       "      <td>-0.583967</td>\n",
       "      <td>0.781593</td>\n",
       "    </tr>\n",
       "    <tr>\n",
       "      <th>1</th>\n",
       "      <td>3</td>\n",
       "      <td>12.001285</td>\n",
       "      <td>-2.301200</td>\n",
       "      <td>0.088885</td>\n",
       "    </tr>\n",
       "    <tr>\n",
       "      <th>2</th>\n",
       "      <td>6</td>\n",
       "      <td>12.147702</td>\n",
       "      <td>0.242893</td>\n",
       "      <td>0.366570</td>\n",
       "    </tr>\n",
       "    <tr>\n",
       "      <th>3</th>\n",
       "      <td>12</td>\n",
       "      <td>12.119495</td>\n",
       "      <td>-0.018186</td>\n",
       "      <td>0.459738</td>\n",
       "    </tr>\n",
       "    <tr>\n",
       "      <th>4</th>\n",
       "      <td>24</td>\n",
       "      <td>12.081550</td>\n",
       "      <td>-0.632996</td>\n",
       "      <td>0.781593</td>\n",
       "    </tr>\n",
       "    <tr>\n",
       "      <th>5</th>\n",
       "      <td>36</td>\n",
       "      <td>12.066625</td>\n",
       "      <td>-0.999053</td>\n",
       "      <td>0.563757</td>\n",
       "    </tr>\n",
       "    <tr>\n",
       "      <th>6</th>\n",
       "      <td>48</td>\n",
       "      <td>12.024582</td>\n",
       "      <td>-1.672657</td>\n",
       "      <td>0.459738</td>\n",
       "    </tr>\n",
       "    <tr>\n",
       "      <th>7</th>\n",
       "      <td>60</td>\n",
       "      <td>11.998193</td>\n",
       "      <td>-1.996095</td>\n",
       "      <td>0.165311</td>\n",
       "    </tr>\n",
       "    <tr>\n",
       "      <th>8</th>\n",
       "      <td>72</td>\n",
       "      <td>11.995365</td>\n",
       "      <td>-2.053274</td>\n",
       "      <td>0.165311</td>\n",
       "    </tr>\n",
       "    <tr>\n",
       "      <th>9</th>\n",
       "      <td>84</td>\n",
       "      <td>12.002102</td>\n",
       "      <td>-1.901676</td>\n",
       "      <td>0.219572</td>\n",
       "    </tr>\n",
       "    <tr>\n",
       "      <th>10</th>\n",
       "      <td>96</td>\n",
       "      <td>12.016001</td>\n",
       "      <td>-1.602729</td>\n",
       "      <td>0.459738</td>\n",
       "    </tr>\n",
       "    <tr>\n",
       "      <th>11</th>\n",
       "      <td>108</td>\n",
       "      <td>12.057548</td>\n",
       "      <td>-0.755921</td>\n",
       "      <td>0.781593</td>\n",
       "    </tr>\n",
       "    <tr>\n",
       "      <th>12</th>\n",
       "      <td>120</td>\n",
       "      <td>12.169272</td>\n",
       "      <td>1.172652</td>\n",
       "      <td>0.063500</td>\n",
       "    </tr>\n",
       "  </tbody>\n",
       "</table>\n",
       "</div>"
      ],
      "text/plain": [
       "    MESES   RMSE [%]   MEB [%]  KSI (p-value)\n",
       "0       1  12.078867 -0.583967       0.781593\n",
       "1       3  12.001285 -2.301200       0.088885\n",
       "2       6  12.147702  0.242893       0.366570\n",
       "3      12  12.119495 -0.018186       0.459738\n",
       "4      24  12.081550 -0.632996       0.781593\n",
       "5      36  12.066625 -0.999053       0.563757\n",
       "6      48  12.024582 -1.672657       0.459738\n",
       "7      60  11.998193 -1.996095       0.165311\n",
       "8      72  11.995365 -2.053274       0.165311\n",
       "9      84  12.002102 -1.901676       0.219572\n",
       "10     96  12.016001 -1.602729       0.459738\n",
       "11    108  12.057548 -0.755921       0.781593\n",
       "12    120  12.169272  1.172652       0.063500"
      ]
     },
     "execution_count": 29,
     "metadata": {},
     "output_type": "execute_result"
    }
   ],
   "source": [
    "tabla"
   ]
  },
  {
   "cell_type": "markdown",
   "metadata": {},
   "source": [
    "#### - Cálculo de errores para la serie satelital original"
   ]
  },
  {
   "cell_type": "code",
   "execution_count": 30,
   "metadata": {},
   "outputs": [
    {
     "data": {
      "text/html": [
       "<div>\n",
       "<style>\n",
       "    .dataframe thead tr:only-child th {\n",
       "        text-align: right;\n",
       "    }\n",
       "\n",
       "    .dataframe thead th {\n",
       "        text-align: left;\n",
       "    }\n",
       "\n",
       "    .dataframe tbody tr th {\n",
       "        vertical-align: top;\n",
       "    }\n",
       "</style>\n",
       "<table border=\"1\" class=\"dataframe\">\n",
       "  <thead>\n",
       "    <tr style=\"text-align: right;\">\n",
       "      <th></th>\n",
       "      <th>NREL</th>\n",
       "      <th>RMSE [%]</th>\n",
       "      <th>MEB [%]</th>\n",
       "      <th>KSI (p-value)</th>\n",
       "    </tr>\n",
       "  </thead>\n",
       "  <tbody>\n",
       "    <tr>\n",
       "      <th>0</th>\n",
       "      <td>NaN</td>\n",
       "      <td>13.782443</td>\n",
       "      <td>17.095651</td>\n",
       "      <td>2.133617e-24</td>\n",
       "    </tr>\n",
       "  </tbody>\n",
       "</table>\n",
       "</div>"
      ],
      "text/plain": [
       "  NREL   RMSE [%]    MEB [%]  KSI (p-value)\n",
       "0  NaN  13.782443  17.095651   2.133617e-24"
      ]
     },
     "execution_count": 30,
     "metadata": {},
     "output_type": "execute_result"
    }
   ],
   "source": [
    "datos=pd.DataFrame(columns=[\"NREL\",\"RMSE [%]\",\"MEB [%]\",\"KSI (p-value)\"])\n",
    "error_RMSE_mes=np.array([RMSEn(serie_pd,serie_pd21)])\n",
    "error_MEB_mes=MEB(serie_pd,serie_pd21)\n",
    "error_KSI_mes=KSI(GHImensual(serie_pd),GHImensual(serie_pd21))\n",
    "datos['RMSE [%]']=error_RMSE_mes\n",
    "datos['MEB [%]']=error_MEB_mes\n",
    "datos['KSI (p-value)']=error_KSI_mes\n",
    "datos"
   ]
  },
  {
   "cell_type": "markdown",
   "metadata": {},
   "source": [
    "#### - Gráfica del error RMSEn para series de diferente longitud"
   ]
  },
  {
   "cell_type": "code",
   "execution_count": 31,
   "metadata": {},
   "outputs": [
    {
     "data": {
      "text/plain": [
       "<matplotlib.legend.Legend at 0x7f933527c5f8>"
      ]
     },
     "execution_count": 31,
     "metadata": {},
     "output_type": "execute_result"
    },
    {
     "data": {
      "image/png": "[encoded data removed]",
      "text/plain": [
       "<matplotlib.figure.Figure at 0x7f9334699940>"
      ]
     },
     "metadata": {},
     "output_type": "display_data"
    }
   ],
   "source": [
    "pylab.xlabel(\"Meses\")\n",
    "pylab.ylabel(\"Error RMSEn [%]\")\n",
    "pylab.plot(tabla['MESES'],tabla['RMSE [%]'],'-k',label=\"Datos corregidos\")\n",
    "pylab.plot(0,datos['RMSE [%]'],'*g',label=\"Serie satelital\")\n",
    "pylab.legend(loc='upper right')"
   ]
  },
  {
   "cell_type": "markdown",
   "metadata": {},
   "source": [
    "#### - Gráfica del error MEB para series de diferente longitud"
   ]
  },
  {
   "cell_type": "code",
   "execution_count": 32,
   "metadata": {},
   "outputs": [
    {
     "data": {
      "text/plain": [
       "<matplotlib.legend.Legend at 0x7f933c1d0518>"
      ]
     },
     "execution_count": 32,
     "metadata": {},
     "output_type": "execute_result"
    },
    {
     "data": {
      "image/png": "[encoded data removed]",
      "text/plain": [
       "<matplotlib.figure.Figure at 0x7f93346a4ac8>"
      ]
     },
     "metadata": {},
     "output_type": "display_data"
    }
   ],
   "source": [
    "pylab.xlabel(\"Meses\")\n",
    "pylab.ylabel(\"Error MEB [%]\")\n",
    "pylab.plot(tabla['MESES'],tabla['MEB [%]'],'-k',label=\"Datos corregidos\")\n",
    "pylab.plot(0,datos['MEB [%]'],'*g',label=\"Serie satelital\")\n",
    "pylab.legend(loc='upper right')"
   ]
  },
  {
   "cell_type": "markdown",
   "metadata": {},
   "source": [
    "#### - Gráfica del p-value para series de diferente longitud"
   ]
  },
  {
   "cell_type": "code",
   "execution_count": 33,
   "metadata": {},
   "outputs": [
    {
     "data": {
      "text/plain": [
       "<matplotlib.legend.Legend at 0x7f9334660ef0>"
      ]
     },
     "execution_count": 33,
     "metadata": {},
     "output_type": "execute_result"
    },
    {
     "data": {
      "image/png": "[encoded data removed]",
      "text/plain": [
       "<matplotlib.figure.Figure at 0x7f9334a89358>"
      ]
     },
     "metadata": {},
     "output_type": "display_data"
    }
   ],
   "source": [
    "pylab.xlabel(\"Meses\")\n",
    "pylab.ylabel(\"p-value (KSI)\")\n",
    "pylab.plot(tabla['MESES'],tabla['KSI (p-value)'],'-k', label=\"Datos corregidos\")\n",
    "pylab.plot(0,datos['KSI (p-value)'],'*g',label=\"Serie satelital\")\n",
    "pylab.legend(loc='upper right')"
   ]
  },
  {
   "cell_type": "markdown",
   "metadata": {},
   "source": [
    "### Análisis\n",
    "\n",
    "De acuerdo a los resutados obtenidos en la modificación del largo de la serie utilizada para realizar el ajuste, podemos decir que cumplen con lo esperado. Por un lado, el error RMSEn disminuye a medida que la serie (IDEAM) utilizada para el ajuste es más larga, en el error MEB tiene un comportamiento similar. Por otro lado, el comportamiento del p-value es coherente con los obtenidos en los errores de sesgo debido a que es mayor en los puntos donde los errores de sesgo son menores, esto se debe a que un p-value más cercano a 1 significa que las series tienen distribuciones más similares.\n",
    "\n",
    "Por otro lado, los errores obtenidos en las series corregidas en \n",
    "\n"
   ]
  },
  {
   "cell_type": "markdown",
   "metadata": {},
   "source": [
    "### - Analisis en el uso de diferentes años"
   ]
  },
  {
   "cell_type": "code",
   "execution_count": 34,
   "metadata": {},
   "outputs": [],
   "source": [
    "año_1=calculo(serie_pd21,2006,2007,13,\"AÑO\")\n",
    "año_2=calculo(serie_pd21,2007,2008,13,\"AÑO\")\n",
    "año_3=calculo(serie_pd21,2008,2009,13,\"AÑO\")\n",
    "año_4=calculo(serie_pd21,2009,2010,13,\"AÑO\")\n",
    "año_5=calculo(serie_pd21,2010,2011,13,\"AÑO\")\n",
    "año_6=calculo(serie_pd21,2011,2012,13,\"AÑO\")\n",
    "año_7=calculo(serie_pd21,2012,2013,13,\"AÑO\")\n",
    "año_8=calculo(serie_pd21,2013,2014,13,\"AÑO\")\n",
    "año_9=calculo(serie_pd21,2014,2015,13,\"AÑO\")\n",
    "año_10=calculo(serie_pd21,2015,2016,13,\"AÑO\")"
   ]
  },
  {
   "cell_type": "code",
   "execution_count": 35,
   "metadata": {},
   "outputs": [],
   "source": [
    "frames=[año_1,año_2,año_3,año_4,año_5,año_6,año_7,año_8,año_9,año_10]\n",
    "tabla_1=pd.concat(frames)\n",
    "años=np.array([2006,2007,2008,2009,2010,2011,2012,2013,2014,2015])"
   ]
  },
  {
   "cell_type": "code",
   "execution_count": 36,
   "metadata": {},
   "outputs": [],
   "source": [
    "tabla_1['AÑO']=años\n",
    "index_1=range(0,10)\n",
    "tabla_1.index=index_1"
   ]
  },
  {
   "cell_type": "markdown",
   "metadata": {},
   "source": [
    "#### - Tabla de errores para diferentes años"
   ]
  },
  {
   "cell_type": "code",
   "execution_count": 37,
   "metadata": {},
   "outputs": [
    {
     "data": {
      "text/html": [
       "<div>\n",
       "<style>\n",
       "    .dataframe thead tr:only-child th {\n",
       "        text-align: right;\n",
       "    }\n",
       "\n",
       "    .dataframe thead th {\n",
       "        text-align: left;\n",
       "    }\n",
       "\n",
       "    .dataframe tbody tr th {\n",
       "        vertical-align: top;\n",
       "    }\n",
       "</style>\n",
       "<table border=\"1\" class=\"dataframe\">\n",
       "  <thead>\n",
       "    <tr style=\"text-align: right;\">\n",
       "      <th></th>\n",
       "      <th>AÑO</th>\n",
       "      <th>RMSE [%]</th>\n",
       "      <th>MEB [%]</th>\n",
       "      <th>KSI (p-value)</th>\n",
       "    </tr>\n",
       "  </thead>\n",
       "  <tbody>\n",
       "    <tr>\n",
       "      <th>0</th>\n",
       "      <td>2006</td>\n",
       "      <td>12.145119</td>\n",
       "      <td>0.252048</td>\n",
       "      <td>3.665702e-01</td>\n",
       "    </tr>\n",
       "    <tr>\n",
       "      <th>1</th>\n",
       "      <td>2007</td>\n",
       "      <td>12.062328</td>\n",
       "      <td>-0.624204</td>\n",
       "      <td>7.815930e-01</td>\n",
       "    </tr>\n",
       "    <tr>\n",
       "      <th>2</th>\n",
       "      <td>2008</td>\n",
       "      <td>12.271928</td>\n",
       "      <td>2.758108</td>\n",
       "      <td>5.874848e-03</td>\n",
       "    </tr>\n",
       "    <tr>\n",
       "      <th>3</th>\n",
       "      <td>2009</td>\n",
       "      <td>12.001242</td>\n",
       "      <td>-0.910922</td>\n",
       "      <td>6.737812e-01</td>\n",
       "    </tr>\n",
       "    <tr>\n",
       "      <th>4</th>\n",
       "      <td>2010</td>\n",
       "      <td>11.947473</td>\n",
       "      <td>-1.886174</td>\n",
       "      <td>2.195716e-01</td>\n",
       "    </tr>\n",
       "    <tr>\n",
       "      <th>5</th>\n",
       "      <td>2011</td>\n",
       "      <td>11.975924</td>\n",
       "      <td>-2.189355</td>\n",
       "      <td>1.222792e-01</td>\n",
       "    </tr>\n",
       "    <tr>\n",
       "      <th>6</th>\n",
       "      <td>2012</td>\n",
       "      <td>11.961041</td>\n",
       "      <td>-3.199525</td>\n",
       "      <td>1.391738e-02</td>\n",
       "    </tr>\n",
       "    <tr>\n",
       "      <th>7</th>\n",
       "      <td>2013</td>\n",
       "      <td>12.074215</td>\n",
       "      <td>-1.115069</td>\n",
       "      <td>5.637568e-01</td>\n",
       "    </tr>\n",
       "    <tr>\n",
       "      <th>8</th>\n",
       "      <td>2014</td>\n",
       "      <td>12.280394</td>\n",
       "      <td>2.709932</td>\n",
       "      <td>5.874848e-03</td>\n",
       "    </tr>\n",
       "    <tr>\n",
       "      <th>9</th>\n",
       "      <td>2015</td>\n",
       "      <td>13.526994</td>\n",
       "      <td>14.243818</td>\n",
       "      <td>2.191121e-20</td>\n",
       "    </tr>\n",
       "  </tbody>\n",
       "</table>\n",
       "</div>"
      ],
      "text/plain": [
       "    AÑO   RMSE [%]    MEB [%]  KSI (p-value)\n",
       "0  2006  12.145119   0.252048   3.665702e-01\n",
       "1  2007  12.062328  -0.624204   7.815930e-01\n",
       "2  2008  12.271928   2.758108   5.874848e-03\n",
       "3  2009  12.001242  -0.910922   6.737812e-01\n",
       "4  2010  11.947473  -1.886174   2.195716e-01\n",
       "5  2011  11.975924  -2.189355   1.222792e-01\n",
       "6  2012  11.961041  -3.199525   1.391738e-02\n",
       "7  2013  12.074215  -1.115069   5.637568e-01\n",
       "8  2014  12.280394   2.709932   5.874848e-03\n",
       "9  2015  13.526994  14.243818   2.191121e-20"
      ]
     },
     "execution_count": 37,
     "metadata": {},
     "output_type": "execute_result"
    }
   ],
   "source": [
    "tabla_1"
   ]
  },
  {
   "cell_type": "markdown",
   "metadata": {},
   "source": [
    "#### - Gráfica del error RMSEn para series de diferentes años"
   ]
  },
  {
   "cell_type": "code",
   "execution_count": 38,
   "metadata": {},
   "outputs": [
    {
     "data": {
      "text/plain": [
       "[<matplotlib.lines.Line2D at 0x7f933434cc18>]"
      ]
     },
     "execution_count": 38,
     "metadata": {},
     "output_type": "execute_result"
    },
    {
     "data": {
      "image/png": "[encoded data removed]",
      "text/plain": [
       "<matplotlib.figure.Figure at 0x7f933467b048>"
      ]
     },
     "metadata": {},
     "output_type": "display_data"
    }
   ],
   "source": [
    "pylab.xlabel(\"Año\")\n",
    "pylab.ylabel(\"Error RMSEn [%]\")\n",
    "pylab.plot(tabla_1['AÑO'],tabla_1['RMSE [%]'],'-k')"
   ]
  },
  {
   "cell_type": "markdown",
   "metadata": {},
   "source": [
    "#### - Gráfica del error MEB para series de diferentes años"
   ]
  },
  {
   "cell_type": "code",
   "execution_count": 39,
   "metadata": {},
   "outputs": [
    {
     "data": {
      "text/plain": [
       "[<matplotlib.lines.Line2D at 0x7f933526e2e8>]"
      ]
     },
     "execution_count": 39,
     "metadata": {},
     "output_type": "execute_result"
    },
    {
     "data": {
      "image/png": "[encoded data removed]",
      "text/plain": [
       "<matplotlib.figure.Figure at 0x7f933436d2e8>"
      ]
     },
     "metadata": {},
     "output_type": "display_data"
    }
   ],
   "source": [
    "pylab.xlabel(\"Año\")\n",
    "pylab.ylabel(\"Error MEB [%]\")\n",
    "pylab.plot(tabla_1['AÑO'],tabla_1['MEB [%]'],'-k')"
   ]
  },
  {
   "cell_type": "markdown",
   "metadata": {},
   "source": [
    "#### - Gráfica del p-value para series de diferentes años"
   ]
  },
  {
   "cell_type": "code",
   "execution_count": 40,
   "metadata": {},
   "outputs": [
    {
     "data": {
      "text/plain": [
       "[<matplotlib.lines.Line2D at 0x7f9334392208>]"
      ]
     },
     "execution_count": 40,
     "metadata": {},
     "output_type": "execute_result"
    },
    {
     "data": {
      "image/png": "[encoded data removed]",
      "text/plain": [
       "<matplotlib.figure.Figure at 0x7f93347954a8>"
      ]
     },
     "metadata": {},
     "output_type": "display_data"
    }
   ],
   "source": [
    "pylab.xlabel(\"Año\")\n",
    "pylab.ylabel(\"p-value (KSI)\")\n",
    "pylab.plot(tabla_1['AÑO'],tabla_1['KSI (p-value)'],'-k')"
   ]
  },
  {
   "cell_type": "code",
   "execution_count": null,
   "metadata": {},
   "outputs": [],
   "source": []
  }
 ],
 "metadata": {
  "kernelspec": {
   "display_name": "Python 3.6",
   "language": "python",
   "name": "python36"
  },
  "language_info": {
   "codemirror_mode": {
    "name": "ipython",
    "version": 3
   },
   "file_extension": ".py",
   "mimetype": "text/x-python",
   "name": "python",
   "nbconvert_exporter": "python",
   "pygments_lexer": "ipython3",
   "version": "3.6.3"
  }
 },
 "nbformat": 4,
 "nbformat_minor": 2
}
