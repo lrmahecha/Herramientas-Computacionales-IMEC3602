{
  "cells": [
    {
      "cell_type": "markdown",
      "source": [
        "# Simulador de vuelta e-kart\n",
        "\n",
        "Durante las próximas semanas vamos a estar desarrollando un **simulador de tiempo de vuelta** del kart eléctrico que estamos desarrollando en el departamento. En principio es simulador debería servir para cualquier vehículo, el que sea un kart trae algunas simplificaciones y complicaciones al asunto.  \n",
        "\n",
        "Vamos a estar trabajando en esto poco a poco durante las próximas semanas, en el camino aprendiendo sobre los métodos numéricos aplicables así como un poco de dinámica vehicular.  \n",
        "\n",
        "Vamos a comenzar con modelos sencillos y a medida que vamos avanzando los podemos complicar un poco.  \n",
        "\n",
        "Varios estudiantes han trabajado en este proyecto en semestres anteriores. Vamos a basarnos en los trabajos de Mariana Córdoba (2016) y David Clavijo (2017), sus documentos de grado y sus códigos están disponibles adjunto a este documento.  \n",
        "\n",
        "También hay disponibles en línea gran variedad de modelos y software que sirven para este fin. Por ejemplo:  \n",
        "\n",
        "* [OptimumLap](http://www.optimumg.com/software/optimumlap/)\n",
        "* [FSAESim](http://www.fsaesim.com/documentation.html)\n",
        "* [AMZ - Lap Time Simulation](http://www.matlabexpo.com/de/2016/proceedings/lap-time-simulation-crucial-for-racecar-concept-evaluation.pdf)\n",
        "* [LapSimFE](https://github.com/CalPolyFSAE/LapSimFE)\n",
        "\nPodemos apoyarnos en estos recursos, así como otros que encuentres disponibles pero la idea es que cada uno construya su propio simulador de manera que puedan en el futuro, si así lo desean, adaptarlo a sus propias necesidades.  "
      ],
      "metadata": {
        "collapsed": false,
        "outputHidden": false,
        "inputHidden": false
      }
    },
    {
      "cell_type": "markdown",
      "source": [
        "## Dinámica longitudinal ##\n",
        "\n",
        "Inicialmente vamos a trabajar en desarrollar un modelo que permita modelar la dinámica longitudinal del vehículo. Para esto vamos a seguir los capítulos 2 y 3 del libro de Gillespie haciendo las simplificaciones aplicables para modelar el kart.  \n",
        "\n",
        "La segunda ley de Newton para el kart acelerando en la dirección longitudinal está dada por:  \n",
        "\n",
        "$ Ma_x = F_x - R_x - D_A$  \n",
        "\n",
        "donde  \n",
        "\n",
        "$M$ = masa total del vehículo  \n",
        "$a_x$ = aceleración en la dirección longitudinal  \n",
        "$F_x$ = fuerza de tracción en las llantas  \n",
        "$R_x = R_{xf} + R_{xr} = f_r(W_f+W_r) = f_rW\\ $ es la fuerza de resistencia a la rodadura  \n",
        "$D_A = \\frac{1}{2}\\rho A_f C_d v_x^2$ es la fuerza de arrastre aerodinámico  \n",
        "\n",
        "donde  \n",
        "\n",
        "$\\rho$ es la densidad del aire  \n",
        "$A_f$ es el área frontal del kart  \n",
        "$C_d$ es el coeficiente de arrastre (0.80 - 0.89 según Córdoba)  \n",
        "$v_x$ es la velocidad del kart  \n",
        "\n",
        "Acá despreciamos la velocidad relativa del viento.  \n",
        "\n",
        "Analicemos ahora como el momento par producido por el motor $T_e$ se transmite al eje de tracción para producir la fuerza de tracción en la llantas. El kart tiene un sistema de transmisión con una relación fija $N_c$ (a través de una cadena). Comenzando en el motor el momento par transferido al eje esta dado por:  \n",
        "\n",
        "$T_d = (T_e+_e\\alpha_e)N_c$  \n",
        "\n",
        "donde  \n",
        "\n",
        "$T_d$ = momento par en eje de tracción  \n",
        "$I_e$ = momento de inercia del motor  \n",
        "$\\alpha_e$ = aceleración angular del motor  \n",
        "\n",
        "En la ecuación anterior noten que una parte del momento par producido por el motor se transmite al eje de tracción y otra parte se va en acelerar el motor. Ahora, haciendo un análisis similar se puede encontrar que el momento par en el eje de tracción se reparte en la fuerza de tracción así como la aceleración angular del mismo:  \n",
        "\n",
        "$T_d = F_xr + I_w\\alpha_w +I_d\\alpha_d$  \n",
        "\n",
        "donde  \n",
        "\n",
        "$F_x$ = fuerza de tracción en las llantas  \n",
        "$r$ = radio efectivo de las llantas  \n",
        "$I_w$ = momento de inercia de las llantas  \n",
        "$\\alpha_w$ = aceleración angular de las llantas  \n",
        "$I_d$ = momento de inercia del eje de tracción  \n",
        "$\\alpha_w$ = aceleración angular del eje de tracción  \n",
        "\n",
        "De la última ecuación despejamos la fuerza de tracción:  \n",
        "\n",
        "$F_x = \\frac{T_d}{r} - \\frac{\\{I_w\\alpha_w + I_d\\alpha_d\\}}{r}$  \n",
        "\n",
        "Ahora, reemplazando la expresión para el momento par en el eje de tracción obtenemos:  \n",
        "\n",
        "$F_x = \\frac{T_e N_c}{r} - \\frac{\\{I_w\\alpha_w + I_d\\alpha_d\\ + I_e \\alpha_e N_c\\}}{r}$  \n",
        "\n",
        "Reconociendo que:  \n",
        "\n",
        "$\\alpha_e = N_c\\alpha_d$    \n",
        "$\\alpha_d = \\alpha_w$  \n",
        "y  \n",
        "$a_x = \\alpha_w r$  \n",
        "\n",
        "Tenemos:  \n",
        "\n",
        "$F_x = \\frac{T_e N_c \\eta_t}{r} - \\{(I_w + I_d) + I_e N_c^2\\}\\frac{a_x}{r^2}$  \n",
        "\n",
        "donde  \n",
        "\n",
        "$\\eta_t$ = la eficiencia total de la transmisión  \n",
        "\n",
        "Finalmente, reemplazamos en la ecuación para la segunda ley de Newton obteniendo:  \n",
        "\n",
        "$(M+M_r)a_x = \\frac{T_e N_c \\eta_t}{r} - R_x - D_A$  \n",
        "\n",
        "donde  \n",
        "\n",
        "$M_r$ = masa equivalente de los componentes rotativos  \n",
        "\n",
        "Con este modelo es posible simular el desempeño en aceleración del vehículo. Para el frenado se puede desarrollar un modelo similar:  \n",
        "\n",
        "$(M+M_r)a_x = F_b - R_x - D_A$  \n",
        "\n",
        "donde  \n",
        "\n$F_b = F_{bf} + F_{br}\\ $ es la fuerza total del frenado aplicado en las ruedas de adelante (*forward*) y atrás (*rear*).  "
      ],
      "metadata": {
        "collapsed": false,
        "outputHidden": false,
        "inputHidden": false
      }
    },
    {
      "cell_type": "markdown",
      "source": [
        "## Taller 03 ##  \n",
        "\n",
        "En este taller continuaremos explorando qué se puede hacer con los modelos que hemos desarrollado. Con este fin vamos a analizar datos tomados en pista para caracterizar el desempeño del kart.  \n",
        "\n",
        "Inicialmente tenemos que leer los datos experimentales. En pista estamos utilizando un equipo VBox para la medición de la velocidad, posición geográfica (gps), altura, entre otras variables. Entre los archivos de Córdoba subidos para el taller anterior había algunos códigos para leer un tipo de archivo de Vbox [tocanzipa_viz.ipynb](https://github.com/andresgm/Herramientas-Computacionales/blob/master/03_taller02/referencias/cordoba/tocancipa_viz.ipynb). Recientemente hemos usado otro sistema Vbox por lo que tendrá que ajustar el código para leer este nuevo tipo de archivos.  \n",
        "\n",
        "Los requerimientos para esta entrega son:  \n",
        "\n",
        "* Implementar una función que dada la ruta de un archivo de VBox lea los datos a una estructura de datos en Python. La función debe servir para los dos tipos de archivos de Vbox con los que cuenta la Universidad.  \n",
        "* Comparar el rendimiento del vehículo de combustión interna (datos Córdoba) con el del kart eléctrico (datos adjuntos) en términos de tiempo de vuelta, velocidades instantáneas, aceleraciones.  Comentar y discutir.  \n",
        "* A partir de los modelos dinámicos desarrollados para el anterior taller, analisar el desempeño de los motores de combustión interna y eléctrico y comparar el momento par, la potencia y velocidad de giro.  \n",
        "* A partir del análisis realizado, sugerir posibles mejoras al kart eléctrico para acercar su desempeño al del kart con motor de combustión interna.  \n",
        "\nEl plazo máximo para la entrega de la solución de este taller es el lunes 12 de marzo de 2018 antes de la media noche.  "
      ],
      "metadata": {}
    },
    {
      "cell_type": "markdown",
      "source": [],
      "metadata": {}
    }
  ],
  "metadata": {
    "kernelspec": {
      "name": "python3",
      "language": "python",
      "display_name": "Python 3"
    },
    "kernel_info": {
      "name": "python3"
    },
    "language_info": {
      "name": "python",
      "version": "3.6.0",
      "mimetype": "text/x-python",
      "codemirror_mode": {
        "name": "ipython",
        "version": 3
      },
      "pygments_lexer": "ipython3",
      "nbconvert_exporter": "python",
      "file_extension": ".py"
    },
    "nteract": {
      "version": "0.7.1"
    }
  },
  "nbformat": 4,
  "nbformat_minor": 4
}