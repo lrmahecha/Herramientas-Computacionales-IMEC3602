{
 "cells": [
  {
   "cell_type": "code",
   "execution_count": 11,
   "metadata": {
    "collapsed": false
   },
   "outputs": [
    {
     "name": "stdout",
     "output_type": "stream",
     "text": [
      "Populating the interactive namespace from numpy and matplotlib\n"
     ]
    }
   ],
   "source": [
    "%pylab inline\n",
    "from scipy.integrate import odeint\n",
    "import matplotlib.pyplot as plt"
   ]
  },
  {
   "cell_type": "code",
   "execution_count": 1,
   "metadata": {
    "collapsed": false
   },
   "outputs": [
    {
     "ename": "NameError",
     "evalue": "name 'np' is not defined",
     "output_type": "error",
     "traceback": [
      "\u001b[0;31m---------------------------------------------------------------------------\u001b[0m",
      "\u001b[0;31mNameError\u001b[0m                                 Traceback (most recent call last)",
      "\u001b[0;32m<ipython-input-1-dcc2aac4adf7>\u001b[0m in \u001b[0;36m<module>\u001b[0;34m()\u001b[0m\n\u001b[1;32m     52\u001b[0m \u001b[0mbpi\u001b[0m\u001b[0;34m=\u001b[0m\u001b[0;36m0.01\u001b[0m \u001b[0;31m# Ancho piñon (m)\u001b[0m\u001b[0;34m\u001b[0m\u001b[0m\n\u001b[1;32m     53\u001b[0m \u001b[0mbpla\u001b[0m\u001b[0;34m=\u001b[0m\u001b[0;36m0.02\u001b[0m \u001b[0;31m# Ancho plato (m)\u001b[0m\u001b[0;34m\u001b[0m\u001b[0m\n\u001b[0;32m---> 54\u001b[0;31m \u001b[0mvpi\u001b[0m\u001b[0;34m=\u001b[0m \u001b[0mbpi\u001b[0m\u001b[0;34m*\u001b[0m\u001b[0mnp\u001b[0m\u001b[0;34m.\u001b[0m\u001b[0mpi\u001b[0m\u001b[0;34m*\u001b[0m\u001b[0mrpi\u001b[0m\u001b[0;34m**\u001b[0m\u001b[0;36m2\u001b[0m \u001b[0;31m# Volumen del piñon (m^3)\u001b[0m\u001b[0;34m\u001b[0m\u001b[0m\n\u001b[0m\u001b[1;32m     55\u001b[0m \u001b[0mvpla\u001b[0m\u001b[0;34m=\u001b[0m\u001b[0mbpla\u001b[0m\u001b[0;34m*\u001b[0m\u001b[0mnp\u001b[0m\u001b[0;34m.\u001b[0m\u001b[0mpi\u001b[0m\u001b[0;34m*\u001b[0m\u001b[0mrpla\u001b[0m\u001b[0;34m**\u001b[0m\u001b[0;36m2\u001b[0m \u001b[0;31m# Volumen del plato (m^3)\u001b[0m\u001b[0;34m\u001b[0m\u001b[0m\n\u001b[1;32m     56\u001b[0m \u001b[0mmpi\u001b[0m\u001b[0;34m=\u001b[0m\u001b[0mrhoac\u001b[0m\u001b[0;34m*\u001b[0m\u001b[0mvpi\u001b[0m \u001b[0;31m# Masa del piñon (kg)\u001b[0m\u001b[0;34m\u001b[0m\u001b[0m\n",
      "\u001b[0;31mNameError\u001b[0m: name 'np' is not defined"
     ]
    }
   ],
   "source": [
    "# Datos Llantas tractivas \n",
    "rll=0.139 # Radio geométrico de las llantas en traseras (m)\n",
    "refc=0.98*rll # Radio efectivo llantas traseras (m)\n",
    "rin=0.0631 #radio interno del neumático (m)\n",
    "\n",
    "# Datos Transmisión\n",
    "dp=11.0 # Dientes del piñon\n",
    "dpl=39.0 # Dientes del plato\n",
    "ng=dpl/dp # Relación de Transmisión\n",
    "etaf=0.95 # Eficiencia de transmisión\n",
    "\n",
    "# Datos eje llantas\n",
    "reje=0.02 # Radio eje de las llantas (m)\n",
    "meje=3.832 # Masa del eje (kg)\n",
    "\n",
    "# Datos Kart general\n",
    "masa=152.0 # masa del Kart (kg)\n",
    "g=9.81 # Gravedad (m/s)\n",
    "w=masa*g # peso del Kart (N)\n",
    "\n",
    "# Datos Fuerzas de la fórmula de aceleración\n",
    "rho=1.1955 # densidad del aire (kg/m^3)\n",
    "dll=0.975 # Distancia entre ejes de llantas delanteras (m)\n",
    "alj=0.88 # Altura con el piloto sentado en el kart (estatura 1.68 m) (m)\n",
    "af=(dll*alj)/2 # Area Frontal Kart (m^2)\n",
    "cd=0.89 # Coeficiente de Arrastre Kart\n",
    "vw=0.0 # velocidad del viento (m/s)\n",
    "theta=0.0 # Angulo carretera\n",
    "\n",
    "# Inercias\n",
    "ii=5.2E-3 # Inercia motor de combustión (kg m^2) \n",
    "\n",
    "mllt=1.43 # Masa llantas traseras (kg)\n",
    "mlld=1.20 # Masa llantas delanteras (kg)\n",
    "rlld=0.129 # Radio llantas delanteras (m)\n",
    "rind=0.0631 # Radio rin llantas delanteras (m)\n",
    "mbt=0.7*mllt # El porcentaje de la masa total que pesa la parte \"banda\" de la llanta trasera\n",
    "mdt=0.3*mllt # El porcentaje de la masa total que pesa la parte \"disco\" de la llanta trasera\n",
    "mbd=0.7*mlld # El porcentaje de la masa total que pesa la parte \"banda\" de la llanta delantera\n",
    "mdd=0.3*mlld # El porcentaje de la masa total que pesa la parte \"disco\" de la llanta delantera\n",
    "illd=(mbd*rlld)+(mdd*(rlld**2-rind**2))/2 # Inercia 1 llanta delantera (kg-m^2)\n",
    "illt=(mbt*rll)+(mdt*(rll**2-rin**2))/2 # Inercia 1 llanta trasera (kg-m^2)\n",
    "\n",
    "#paso=7.62 #(mm)\n",
    "#rpim= paso*(0.6+(1/tan(180/dp))) # Radio Piñon (mm)\n",
    "#rplam=paso*(0.6+(1/tan(180/dpl))) # Radio Plato (mm)\n",
    "#rpi= rpim/1000 #Radio Piñon (m)\n",
    "#rpla= rplam/1000 #Radio Plato (m)\n",
    "rpi=0.01525#(m)\n",
    "rpla=0.04096 #(m)\n",
    "rhoac=7850.0 # Densidad del Acero (kg/m^3)\n",
    "bpi=0.01 # Ancho piñon (m)\n",
    "bpla=0.02 # Ancho plato (m)\n",
    "vpi= bpi*np.pi*rpi**2 # Volumen del piñon (m^3)\n",
    "vpla=bpla*np.pi*rpla**2 # Volumen del plato (m^3)\n",
    "mpi=rhoac*vpi # Masa del piñon (kg)\n",
    "mpla=rhoac*vpla # Masa del plato (kg)\n",
    "ig=((mpi*(rpi**2))/2.0)+((mpla*(rpla**2))/2.0) # Inercia de la transmisión (kg-m^2)\n",
    "\n",
    "ieje=(meje*reje**2)/2.0 # Inercia del eje de las llantas (kg-m^2)\n",
    "\n",
    "# Fuerzas Aceleración\n",
    "# Resistencia a la rodadura\n",
    "a=0.2231 # Distancia del centro de gravedad al eje de la llanta trasera (m)\n",
    "l=1.0063 # Distancia de eje de las llantas traseras y delanteras (m)\n",
    "h=0.07478 # Altura del centro de gravedad del kart con respecto al piso (m)\n",
    "\n",
    "masa_eq = 200 # ESto toca calcularlo correctamente\n",
    "\n",
    "gamma = 1 # aceleracion\n",
    "\n",
    "def frodadura(vx,ax):\n",
    "    wr=w*((a/l)+(ax/g*(h/l))) # fuerza vertical sobre las llantas tractivas\n",
    "    fr=0.01*(1+(vx/100.0)) # Factor de rodadura la velocidad del kart debe estar en (km/h)\n",
    "    # fr=C*((mllt*g)/(rllt*2))*sqrt(ht/bllt)\n",
    "    # ht=0.0739 # Altura del neumático (m)\n",
    "    # bllt=0.209 # Ancho del neumático (m)\n",
    "    # C= # Constante del material de la llanta\n",
    "    return wr*fr*cos(theta) # (N)\n",
    "\n",
    "def frodadura_const(vx):\n",
    "    fr=0.01*(1+(vx/100.0)) # Factor de rodadura la velocidad del kart debe estar en (km/h)\n",
    "    # fr=C*((mllt*g)/(rllt*2))*sqrt(ht/bllt)\n",
    "    # ht=0.0739 # Altura del neumático (m)\n",
    "    # bllt=0.209 # Ancho del neumático (m)\n",
    "    # C= # Constante del material de la llanta\n",
    "    return w*fr*cos(theta) # (N)\n",
    "\n",
    "# Fuerza del ángulo de la carretera\n",
    "def finclinacion(theta):\n",
    "    return w*sin(theta) # (N)\n",
    "\n",
    "# Fuerza de arrastre\n",
    "def farrastre(vx):\n",
    "    return (1.0/2.0)*rho*af*cd*(vx+vw)**2 # (N)\n",
    "\n",
    "# Fuerza de tracción, Torque del Motor\n",
    "def ftraccion(ax,Fg,Fw,Fr):\n",
    "    # Ft=((ti*ng*etaf)/refc)-(((ii-ig)*ng^2)+ieje+illd*2+illt*2)*(ax/(refc^2)) # (N)\n",
    "    return masa*ax+Fg+Fw+Fr\n",
    "\n",
    "def torquemotor(ax,Ft):\n",
    "    return (Ft+(((ii-ig)/(ng**2))+ieje+illd*2+illt*2)*(ax/(refc**2)))*(refc/(ng*etaf)) # Torque del motor (Nm)\n",
    "\n",
    "# Aceleración, Fuerza de tracción\n",
    "# mr=(((ii-ig)*ng^2)+ieje+illd*2+illt*2)/(refc^2) \n",
    "# ax=(((ti*ng*etaf)/refc)-Fg-Fw-Fr)/(m+mr) # (m/s)\n",
    "\n",
    "def torquemotor_curva(omega_m,gamma):\n",
    "    return 35\n",
    "\n",
    "# Velocidad angular del motor\n",
    "def vangularmotor(vx):\n",
    "    return (vx*ng)/refc # (rad/s)\n",
    "\n",
    "def dveldt(velv,t0):\n",
    "    xx,vel = velv\n",
    "    omega_llanta = vel/refc\n",
    "    omega_motor = omega_llanta/ng\n",
    "    frod = frodadura_const(vel*3.6)\n",
    "    farr = farrastre(vel)\n",
    "    fincli = finclinacion(theta)\n",
    "    return [vel,(torquemotor_curva(omega_motor,gamma)*ng*etaf/refc-frod-farr-fincli)/masa_eq] # para solucionar\n",
    "    # al tiempo posición y velocidad"
   ]
  },
  {
   "cell_type": "code",
   "execution_count": 33,
   "metadata": {
    "collapsed": false
   },
   "outputs": [],
   "source": [
    "# Variables de tiempo\n",
    "t_in=0\n",
    "t_fin=10\n",
    "deltat=0.001\n",
    "\n",
    "# condiciones iniciales\n",
    "x_0=0\n",
    "v_0=0\n",
    "c_ini = [x_0,v_0]\n",
    "t=np.arange(t_in,t_fin,deltat)"
   ]
  },
  {
   "cell_type": "code",
   "execution_count": 34,
   "metadata": {
    "collapsed": false
   },
   "outputs": [],
   "source": [
    "sol = odeint(dveldt, c_ini, t)"
   ]
  },
  {
   "cell_type": "code",
   "execution_count": 35,
   "metadata": {
    "collapsed": false
   },
   "outputs": [
    {
     "data": {
      "image/png": "[encoded data removed]",
      "text/plain": [
       "<matplotlib.figure.Figure at 0x10d8ae9b0>"
      ]
     },
     "metadata": {},
     "output_type": "display_data"
    }
   ],
   "source": [
    "plt.plot(t, sol[:, 0], 'b', label='posición(t)')\n",
    "plt.plot(t, sol[:, 1], 'g', label='velocidad(t)')\n",
    "plt.legend(loc='best')\n",
    "plt.xlabel('t')\n",
    "plt.grid()\n",
    "plt.show()"
   ]
  },
  {
   "cell_type": "code",
   "execution_count": null,
   "metadata": {
    "collapsed": true
   },
   "outputs": [],
   "source": []
  }
 ],
 "metadata": {
  "kernelspec": {
   "display_name": "Python 3",
   "language": "python",
   "name": "python3"
  },
  "language_info": {
   "codemirror_mode": {
    "name": "ipython",
    "version": 3
   },
   "file_extension": ".py",
   "mimetype": "text/x-python",
   "name": "python",
   "nbconvert_exporter": "python",
   "pygments_lexer": "ipython3",
   "version": "3.5.1"
  }
 },
 "nbformat": 4,
 "nbformat_minor": 0
}
